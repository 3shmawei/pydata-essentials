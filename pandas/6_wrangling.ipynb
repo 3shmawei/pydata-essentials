{
 "cells": [
  {
   "cell_type": "markdown",
   "metadata": {},
   "source": [
    "# Pandas Essentials:  Data Wrangling\n",
    "\n",
    "This Pandas Notebook illustrates the essentials of \"wrangling\" your data.  Concepts are illustrated with the [New York City pizza restaurant inspection data](https://github.com/ecerami/pydata-essentials/blob/master/pandas/data/NYC_Pizza_2017.csv).\n",
    "\n",
    "Topics include:\n",
    "\n",
    "* Transforming Datatypes of Columns\n",
    "* Dropping Columns\n",
    "* Renaming Columns\n",
    "* Merging Data Frames"
   ]
  },
  {
   "cell_type": "code",
   "execution_count": 1,
   "metadata": {
    "collapsed": true
   },
   "outputs": [],
   "source": [
    "import pandas as pd"
   ]
  },
  {
   "cell_type": "code",
   "execution_count": 2,
   "metadata": {
    "collapsed": true
   },
   "outputs": [],
   "source": [
    "# Read in the Full Pizza Data Set\n",
    "pizza_df = pd.read_csv(\"data/NYC_Pizza_2017_Full.csv\")"
   ]
  },
  {
   "cell_type": "markdown",
   "metadata": {},
   "source": [
    "# Transforming Datatypes of Columns"
   ]
  },
  {
   "cell_type": "code",
   "execution_count": 3,
   "metadata": {},
   "outputs": [
    {
     "name": "stdout",
     "output_type": "stream",
     "text": [
      "<class 'pandas.core.frame.DataFrame'>\n",
      "RangeIndex: 19818 entries, 0 to 19817\n",
      "Data columns (total 16 columns):\n",
      "CAMIS                  19818 non-null int64\n",
      "DBA                    19818 non-null object\n",
      "BORO                   19818 non-null object\n",
      "BUILDING               19818 non-null object\n",
      "STREET                 19818 non-null object\n",
      "ZIPCODE                19818 non-null float64\n",
      "PHONE                  19818 non-null int64\n",
      "CUISINE DESCRIPTION    19818 non-null object\n",
      "INSPECTION DATE        19818 non-null object\n",
      "ACTION                 19818 non-null object\n",
      "VIOLATION CODE         19559 non-null object\n",
      "SCORE                  18626 non-null float64\n",
      "GRADE                  9631 non-null object\n",
      "GRADE DATE             9575 non-null object\n",
      "RECORD DATE            19818 non-null object\n",
      "INSPECTION TYPE        19818 non-null object\n",
      "dtypes: float64(2), int64(2), object(12)\n",
      "memory usage: 2.4+ MB\n"
     ]
    }
   ],
   "source": [
    "# Before any transformation, these are our data types\n",
    "pizza_df.info()"
   ]
  },
  {
   "cell_type": "code",
   "execution_count": 4,
   "metadata": {},
   "outputs": [
    {
     "name": "stdout",
     "output_type": "stream",
     "text": [
      "<class 'pandas.core.frame.DataFrame'>\n",
      "RangeIndex: 19818 entries, 0 to 19817\n",
      "Data columns (total 16 columns):\n",
      "CAMIS                  19818 non-null object\n",
      "DBA                    19818 non-null object\n",
      "BORO                   19818 non-null object\n",
      "BUILDING               19818 non-null object\n",
      "STREET                 19818 non-null object\n",
      "ZIPCODE                19818 non-null object\n",
      "PHONE                  19818 non-null int64\n",
      "CUISINE DESCRIPTION    19818 non-null object\n",
      "INSPECTION DATE        19818 non-null object\n",
      "ACTION                 19818 non-null object\n",
      "VIOLATION CODE         19559 non-null object\n",
      "SCORE                  18626 non-null float64\n",
      "GRADE                  9631 non-null object\n",
      "GRADE DATE             9575 non-null datetime64[ns]\n",
      "RECORD DATE            19818 non-null datetime64[ns]\n",
      "INSPECTION TYPE        19818 non-null object\n",
      "dtypes: datetime64[ns](2), float64(1), int64(1), object(12)\n",
      "memory usage: 2.4+ MB\n"
     ]
    }
   ],
   "source": [
    "# Let's Transform Some columns to strings\n",
    "# and dates to datetime objects\n",
    "pizza_df[\"CAMIS\"] = pizza_df.CAMIS.astype(str)\n",
    "pizza_df[\"ZIPCODE\"] = pizza_df.ZIPCODE.astype(int).astype(str)\n",
    "pizza_df[\"GRADE DATE\"] = pd.to_datetime(pizza_df[\"GRADE DATE\"])\n",
    "pizza_df[\"RECORD DATE\"] = pd.to_datetime(pizza_df[\"RECORD DATE\"])\n",
    "pizza_df.info()"
   ]
  },
  {
   "cell_type": "markdown",
   "metadata": {},
   "source": [
    "# Dropping Columns"
   ]
  },
  {
   "cell_type": "code",
   "execution_count": 5,
   "metadata": {},
   "outputs": [
    {
     "name": "stdout",
     "output_type": "stream",
     "text": [
      "<class 'pandas.core.frame.DataFrame'>\n",
      "RangeIndex: 19818 entries, 0 to 19817\n",
      "Data columns (total 12 columns):\n",
      "CAMIS              19818 non-null object\n",
      "DBA                19818 non-null object\n",
      "BORO               19818 non-null object\n",
      "ZIPCODE            19818 non-null object\n",
      "INSPECTION DATE    19818 non-null object\n",
      "ACTION             19818 non-null object\n",
      "VIOLATION CODE     19559 non-null object\n",
      "SCORE              18626 non-null float64\n",
      "GRADE              9631 non-null object\n",
      "GRADE DATE         9575 non-null datetime64[ns]\n",
      "RECORD DATE        19818 non-null datetime64[ns]\n",
      "INSPECTION TYPE    19818 non-null object\n",
      "dtypes: datetime64[ns](2), float64(1), object(9)\n",
      "memory usage: 1.8+ MB\n"
     ]
    }
   ],
   "source": [
    "pizza_df.drop(labels=\"PHONE\", axis=\"columns\", inplace=True)\n",
    "pizza_df.drop(labels=\"BUILDING\", axis=\"columns\", inplace=True)\n",
    "pizza_df.drop(labels=\"STREET\", axis=\"columns\", inplace=True)\n",
    "pizza_df.drop(labels=\"CUISINE DESCRIPTION\", axis=\"columns\", inplace=True)\n",
    "pizza_df.info()\n",
    "\n",
    "# Note:  you can also drop rows via the same mechanism, except specify axis=\"index\""
   ]
  },
  {
   "cell_type": "markdown",
   "metadata": {
    "collapsed": true
   },
   "source": [
    "# Renaming columns"
   ]
  },
  {
   "cell_type": "code",
   "execution_count": 6,
   "metadata": {},
   "outputs": [
    {
     "name": "stdout",
     "output_type": "stream",
     "text": [
      "<class 'pandas.core.frame.DataFrame'>\n",
      "RangeIndex: 19818 entries, 0 to 19817\n",
      "Data columns (total 12 columns):\n",
      "ID                 19818 non-null object\n",
      "NAME               19818 non-null object\n",
      "BORO               19818 non-null object\n",
      "ZIPCODE            19818 non-null object\n",
      "INSPECTION DATE    19818 non-null object\n",
      "ACTION             19818 non-null object\n",
      "VIOLATION CODE     19559 non-null object\n",
      "SCORE              18626 non-null float64\n",
      "GRADE              9631 non-null object\n",
      "GRADE DATE         9575 non-null datetime64[ns]\n",
      "RECORD DATE        19818 non-null datetime64[ns]\n",
      "INSPECTION TYPE    19818 non-null object\n",
      "dtypes: datetime64[ns](2), float64(1), object(9)\n",
      "memory usage: 1.8+ MB\n"
     ]
    }
   ],
   "source": [
    "pizza_df.rename(columns = {'CAMIS':'ID'}, inplace=True)\n",
    "pizza_df.rename(columns = {'DBA':'NAME'}, inplace=True)\n",
    "pizza_df.info()"
   ]
  },
  {
   "cell_type": "markdown",
   "metadata": {
    "collapsed": true
   },
   "source": [
    "# Merging"
   ]
  },
  {
   "cell_type": "code",
   "execution_count": 7,
   "metadata": {},
   "outputs": [
    {
     "data": {
      "text/html": [
       "<div>\n",
       "<table border=\"1\" class=\"dataframe\">\n",
       "  <thead>\n",
       "    <tr style=\"text-align: right;\">\n",
       "      <th></th>\n",
       "      <th>VIOLATION CODE</th>\n",
       "      <th>VIOLATION DESCRIPTION</th>\n",
       "      <th>CRITICAL FLAG</th>\n",
       "    </tr>\n",
       "  </thead>\n",
       "  <tbody>\n",
       "    <tr>\n",
       "      <th>0</th>\n",
       "      <td>02B</td>\n",
       "      <td>Hot food item not held at or above 140 F.</td>\n",
       "      <td>Critical</td>\n",
       "    </tr>\n",
       "    <tr>\n",
       "      <th>1</th>\n",
       "      <td>06D</td>\n",
       "      <td>Food contact surface not properly washed, rins...</td>\n",
       "      <td>Critical</td>\n",
       "    </tr>\n",
       "    <tr>\n",
       "      <th>2</th>\n",
       "      <td>02G</td>\n",
       "      <td>Cold food item held above 41 F (smoked fish an...</td>\n",
       "      <td>Critical</td>\n",
       "    </tr>\n",
       "    <tr>\n",
       "      <th>3</th>\n",
       "      <td>10B</td>\n",
       "      <td>Plumbing not properly installed or maintained;...</td>\n",
       "      <td>Not Critical</td>\n",
       "    </tr>\n",
       "    <tr>\n",
       "      <th>4</th>\n",
       "      <td>15L</td>\n",
       "      <td>Smoke free workplace smoking policy inadequate...</td>\n",
       "      <td>Not Critical</td>\n",
       "    </tr>\n",
       "  </tbody>\n",
       "</table>\n",
       "</div>"
      ],
      "text/plain": [
       "  VIOLATION CODE                              VIOLATION DESCRIPTION  \\\n",
       "0            02B          Hot food item not held at or above 140 F.   \n",
       "1            06D  Food contact surface not properly washed, rins...   \n",
       "2            02G  Cold food item held above 41 F (smoked fish an...   \n",
       "3            10B  Plumbing not properly installed or maintained;...   \n",
       "4            15L  Smoke free workplace smoking policy inadequate...   \n",
       "\n",
       "  CRITICAL FLAG  \n",
       "0      Critical  \n",
       "1      Critical  \n",
       "2      Critical  \n",
       "3  Not Critical  \n",
       "4  Not Critical  "
      ]
     },
     "execution_count": 7,
     "metadata": {},
     "output_type": "execute_result"
    }
   ],
   "source": [
    "# Read in Violation Code Descriptions\n",
    "violation_codes = pd.read_csv(\"data/violation_codes.csv\")\n",
    "violation_codes.head()"
   ]
  },
  {
   "cell_type": "code",
   "execution_count": 8,
   "metadata": {
    "collapsed": true
   },
   "outputs": [],
   "source": [
    "# Create a small data frame with three code\n",
    "sample_codes = [\"02B\", \"06D\", \"99D\"]\n",
    "sample_df = pd.DataFrame(sample_codes, columns=[\"VIOLATION CODE\"])"
   ]
  },
  {
   "cell_type": "code",
   "execution_count": 9,
   "metadata": {},
   "outputs": [
    {
     "data": {
      "text/html": [
       "<div>\n",
       "<table border=\"1\" class=\"dataframe\">\n",
       "  <thead>\n",
       "    <tr style=\"text-align: right;\">\n",
       "      <th></th>\n",
       "      <th>VIOLATION CODE</th>\n",
       "      <th>VIOLATION DESCRIPTION</th>\n",
       "      <th>CRITICAL FLAG</th>\n",
       "    </tr>\n",
       "  </thead>\n",
       "  <tbody>\n",
       "    <tr>\n",
       "      <th>0</th>\n",
       "      <td>02B</td>\n",
       "      <td>Hot food item not held at or above 140 F.</td>\n",
       "      <td>Critical</td>\n",
       "    </tr>\n",
       "    <tr>\n",
       "      <th>1</th>\n",
       "      <td>06D</td>\n",
       "      <td>Food contact surface not properly washed, rins...</td>\n",
       "      <td>Critical</td>\n",
       "    </tr>\n",
       "    <tr>\n",
       "      <th>2</th>\n",
       "      <td>99D</td>\n",
       "      <td>NaN</td>\n",
       "      <td>NaN</td>\n",
       "    </tr>\n",
       "  </tbody>\n",
       "</table>\n",
       "</div>"
      ],
      "text/plain": [
       "  VIOLATION CODE                              VIOLATION DESCRIPTION  \\\n",
       "0            02B          Hot food item not held at or above 140 F.   \n",
       "1            06D  Food contact surface not properly washed, rins...   \n",
       "2            99D                                                NaN   \n",
       "\n",
       "  CRITICAL FLAG  \n",
       "0      Critical  \n",
       "1      Critical  \n",
       "2           NaN  "
      ]
     },
     "execution_count": 9,
     "metadata": {},
     "output_type": "execute_result"
    }
   ],
   "source": [
    "# Illustrate a \"left\" merge\n",
    "pd.merge(left=sample_df, right=violation_codes, how=\"left\")"
   ]
  },
  {
   "cell_type": "code",
   "execution_count": 10,
   "metadata": {},
   "outputs": [
    {
     "data": {
      "text/html": [
       "<div>\n",
       "<table border=\"1\" class=\"dataframe\">\n",
       "  <thead>\n",
       "    <tr style=\"text-align: right;\">\n",
       "      <th></th>\n",
       "      <th>VIOLATION CODE</th>\n",
       "      <th>VIOLATION DESCRIPTION</th>\n",
       "      <th>CRITICAL FLAG</th>\n",
       "    </tr>\n",
       "  </thead>\n",
       "  <tbody>\n",
       "    <tr>\n",
       "      <th>0</th>\n",
       "      <td>02B</td>\n",
       "      <td>Hot food item not held at or above 140 F.</td>\n",
       "      <td>Critical</td>\n",
       "    </tr>\n",
       "    <tr>\n",
       "      <th>1</th>\n",
       "      <td>06D</td>\n",
       "      <td>Food contact surface not properly washed, rins...</td>\n",
       "      <td>Critical</td>\n",
       "    </tr>\n",
       "  </tbody>\n",
       "</table>\n",
       "</div>"
      ],
      "text/plain": [
       "  VIOLATION CODE                              VIOLATION DESCRIPTION  \\\n",
       "0            02B          Hot food item not held at or above 140 F.   \n",
       "1            06D  Food contact surface not properly washed, rins...   \n",
       "\n",
       "  CRITICAL FLAG  \n",
       "0      Critical  \n",
       "1      Critical  "
      ]
     },
     "execution_count": 10,
     "metadata": {},
     "output_type": "execute_result"
    }
   ],
   "source": [
    "# Illustrate an \"inner\" merge\n",
    "pd.merge(left=sample_df, right=violation_codes, how=\"inner\")"
   ]
  },
  {
   "cell_type": "code",
   "execution_count": 11,
   "metadata": {
    "collapsed": true
   },
   "outputs": [],
   "source": [
    "# Merge pizza_df with violation_codes\n",
    "pizza_merged_df = pd.merge(left=pizza_df, right=violation_codes, \n",
    "    how=\"left\", on=\"VIOLATION CODE\")"
   ]
  },
  {
   "cell_type": "code",
   "execution_count": 12,
   "metadata": {},
   "outputs": [
    {
     "data": {
      "text/html": [
       "<div>\n",
       "<table border=\"1\" class=\"dataframe\">\n",
       "  <thead>\n",
       "    <tr style=\"text-align: right;\">\n",
       "      <th></th>\n",
       "      <th>ID</th>\n",
       "      <th>NAME</th>\n",
       "      <th>BORO</th>\n",
       "      <th>ZIPCODE</th>\n",
       "      <th>INSPECTION DATE</th>\n",
       "      <th>ACTION</th>\n",
       "      <th>VIOLATION CODE</th>\n",
       "      <th>SCORE</th>\n",
       "      <th>GRADE</th>\n",
       "      <th>GRADE DATE</th>\n",
       "      <th>RECORD DATE</th>\n",
       "      <th>INSPECTION TYPE</th>\n",
       "      <th>VIOLATION DESCRIPTION</th>\n",
       "      <th>CRITICAL FLAG</th>\n",
       "    </tr>\n",
       "  </thead>\n",
       "  <tbody>\n",
       "    <tr>\n",
       "      <th>0</th>\n",
       "      <td>41652560</td>\n",
       "      <td>$1 PIZZA $2 BEER</td>\n",
       "      <td>MANHATTAN</td>\n",
       "      <td>10012</td>\n",
       "      <td>05/04/2015</td>\n",
       "      <td>Violations were cited in the following area(s).</td>\n",
       "      <td>02B</td>\n",
       "      <td>19.0</td>\n",
       "      <td>NaN</td>\n",
       "      <td>NaT</td>\n",
       "      <td>2017-04-22</td>\n",
       "      <td>Cycle Inspection / Initial Inspection</td>\n",
       "      <td>Hot food item not held at or above 140 F.</td>\n",
       "      <td>Critical</td>\n",
       "    </tr>\n",
       "    <tr>\n",
       "      <th>1</th>\n",
       "      <td>41257734</td>\n",
       "      <td>PAPA JOHN'S</td>\n",
       "      <td>QUEENS</td>\n",
       "      <td>11433</td>\n",
       "      <td>04/04/2017</td>\n",
       "      <td>Establishment re-closed by DOHMH</td>\n",
       "      <td>08A</td>\n",
       "      <td>12.0</td>\n",
       "      <td>NaN</td>\n",
       "      <td>NaT</td>\n",
       "      <td>2017-04-22</td>\n",
       "      <td>Cycle Inspection / Reopening Inspection</td>\n",
       "      <td>Facility not vermin proof. Harborage or condit...</td>\n",
       "      <td>Not Critical</td>\n",
       "    </tr>\n",
       "    <tr>\n",
       "      <th>2</th>\n",
       "      <td>40933080</td>\n",
       "      <td>LUIGI'S PIZZA</td>\n",
       "      <td>QUEENS</td>\n",
       "      <td>11416</td>\n",
       "      <td>12/20/2016</td>\n",
       "      <td>Violations were cited in the following area(s).</td>\n",
       "      <td>06D</td>\n",
       "      <td>5.0</td>\n",
       "      <td>A</td>\n",
       "      <td>2016-12-20</td>\n",
       "      <td>2017-04-22</td>\n",
       "      <td>Cycle Inspection / Re-inspection</td>\n",
       "      <td>Food contact surface not properly washed, rins...</td>\n",
       "      <td>Critical</td>\n",
       "    </tr>\n",
       "    <tr>\n",
       "      <th>3</th>\n",
       "      <td>41656246</td>\n",
       "      <td>NEW MARIOS PIZZERIA</td>\n",
       "      <td>BROOKLYN</td>\n",
       "      <td>11238</td>\n",
       "      <td>03/06/2017</td>\n",
       "      <td>Violations were cited in the following area(s).</td>\n",
       "      <td>10F</td>\n",
       "      <td>14.0</td>\n",
       "      <td>NaN</td>\n",
       "      <td>NaT</td>\n",
       "      <td>2017-04-22</td>\n",
       "      <td>Cycle Inspection / Initial Inspection</td>\n",
       "      <td>Non-food contact surface improperly constructe...</td>\n",
       "      <td>Not Critical</td>\n",
       "    </tr>\n",
       "    <tr>\n",
       "      <th>4</th>\n",
       "      <td>41353218</td>\n",
       "      <td>CASSIANO'S PIZZA</td>\n",
       "      <td>MANHATTAN</td>\n",
       "      <td>10022</td>\n",
       "      <td>10/06/2015</td>\n",
       "      <td>Violations were cited in the following area(s).</td>\n",
       "      <td>04M</td>\n",
       "      <td>12.0</td>\n",
       "      <td>A</td>\n",
       "      <td>2015-10-06</td>\n",
       "      <td>2017-04-22</td>\n",
       "      <td>Cycle Inspection / Re-inspection</td>\n",
       "      <td>Live roaches present in facility's food and/or...</td>\n",
       "      <td>Critical</td>\n",
       "    </tr>\n",
       "  </tbody>\n",
       "</table>\n",
       "</div>"
      ],
      "text/plain": [
       "         ID                 NAME       BORO ZIPCODE INSPECTION DATE  \\\n",
       "0  41652560     $1 PIZZA $2 BEER  MANHATTAN   10012      05/04/2015   \n",
       "1  41257734          PAPA JOHN'S     QUEENS   11433      04/04/2017   \n",
       "2  40933080        LUIGI'S PIZZA     QUEENS   11416      12/20/2016   \n",
       "3  41656246  NEW MARIOS PIZZERIA   BROOKLYN   11238      03/06/2017   \n",
       "4  41353218     CASSIANO'S PIZZA  MANHATTAN   10022      10/06/2015   \n",
       "\n",
       "                                            ACTION VIOLATION CODE  SCORE  \\\n",
       "0  Violations were cited in the following area(s).            02B   19.0   \n",
       "1                 Establishment re-closed by DOHMH            08A   12.0   \n",
       "2  Violations were cited in the following area(s).            06D    5.0   \n",
       "3  Violations were cited in the following area(s).            10F   14.0   \n",
       "4  Violations were cited in the following area(s).            04M   12.0   \n",
       "\n",
       "  GRADE GRADE DATE RECORD DATE                          INSPECTION TYPE  \\\n",
       "0   NaN        NaT  2017-04-22    Cycle Inspection / Initial Inspection   \n",
       "1   NaN        NaT  2017-04-22  Cycle Inspection / Reopening Inspection   \n",
       "2     A 2016-12-20  2017-04-22         Cycle Inspection / Re-inspection   \n",
       "3   NaN        NaT  2017-04-22    Cycle Inspection / Initial Inspection   \n",
       "4     A 2015-10-06  2017-04-22         Cycle Inspection / Re-inspection   \n",
       "\n",
       "                               VIOLATION DESCRIPTION CRITICAL FLAG  \n",
       "0          Hot food item not held at or above 140 F.      Critical  \n",
       "1  Facility not vermin proof. Harborage or condit...  Not Critical  \n",
       "2  Food contact surface not properly washed, rins...      Critical  \n",
       "3  Non-food contact surface improperly constructe...  Not Critical  \n",
       "4  Live roaches present in facility's food and/or...      Critical  "
      ]
     },
     "execution_count": 12,
     "metadata": {},
     "output_type": "execute_result"
    }
   ],
   "source": [
    "pizza_merged_df.head()"
   ]
  },
  {
   "cell_type": "markdown",
   "metadata": {},
   "source": [
    "# Deep Dive on One Specific Restaurant"
   ]
  },
  {
   "cell_type": "code",
   "execution_count": 13,
   "metadata": {},
   "outputs": [
    {
     "data": {
      "text/plain": [
       "GRADE DATE\n",
       "2015-03-05    10.0\n",
       "2015-11-09    12.0\n",
       "2016-06-23    12.0\n",
       "2017-01-23    42.0\n",
       "Name: SCORE, dtype: float64"
      ]
     },
     "execution_count": 13,
     "metadata": {},
     "output_type": "execute_result"
    }
   ],
   "source": [
    "# Example violations from one specific restaurant\n",
    "aj_pizza = pizza_merged_df[pizza_merged_df[\"ID\"] == \"50019036\"]\n",
    "scores = aj_pizza.groupby(\"GRADE DATE\").SCORE.max()\n",
    "scores"
   ]
  },
  {
   "cell_type": "code",
   "execution_count": 14,
   "metadata": {},
   "outputs": [
    {
     "data": {
      "image/png": "[encoded data removed]",
      "text/plain": [
       "<matplotlib.figure.Figure at 0x1069e8cd0>"
      ]
     },
     "metadata": {},
     "output_type": "display_data"
    }
   ],
   "source": [
    "%matplotlib inline\n",
    "scores.plot.area();"
   ]
  },
  {
   "cell_type": "code",
   "execution_count": 15,
   "metadata": {},
   "outputs": [
    {
     "name": "stdout",
     "output_type": "stream",
     "text": [
      "[02G]:  Cold food item held above 41 F (smoked fish and reduced oxygen packaged foods above 38 F) except during necessary preparation.\n",
      "[04N]:  Filth flies or food/refuse/sewage-associated (FRSA) flies present in facility\u001as food and/or non-food areas. Filth flies include house flies, little house flies, blow flies, bottle flies and flesh flies. Food/refuse/sewage-associated flies include fruit flies, drain flies and Phorid flies.\n",
      "[10H]:  Proper sanitization not provided for utensil ware washing operation.\n",
      "[08A]:  Facility not vermin proof. Harborage or conditions conducive to attracting vermin to the premises and/or allowing vermin to exist.\n"
     ]
    }
   ],
   "source": [
    "recent = aj_pizza[aj_pizza[\"GRADE DATE\"] == \"2017-01-23\"]\n",
    "for index, row in recent.iterrows():\n",
    "    print \"[%s]:  %s\" % (row[\"VIOLATION CODE\"], row[\"VIOLATION DESCRIPTION\"])"
   ]
  }
 ],
 "metadata": {
  "kernelspec": {
   "display_name": "Python 2",
   "language": "python",
   "name": "python2"
  },
  "language_info": {
   "codemirror_mode": {
    "name": "ipython",
    "version": 2
   },
   "file_extension": ".py",
   "mimetype": "text/x-python",
   "name": "python",
   "nbconvert_exporter": "python",
   "pygments_lexer": "ipython2",
   "version": "2.7.11"
  }
 },
 "nbformat": 4,
 "nbformat_minor": 2
}
